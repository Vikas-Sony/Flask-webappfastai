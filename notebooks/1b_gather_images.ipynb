{
 "cells": [
  {
   "cell_type": "code",
   "execution_count": 5,
   "metadata": {},
   "outputs": [],
   "source": [
    "%reload_ext autoreload\n",
    "%autoreload 2\n",
    "%matplotlib inline\n",
    "\n",
    "from fastai import *\n",
    "from fastai.vision import *\n",
    "from google_images_download import google_images_download"
   ]
  },
  {
   "cell_type": "code",
   "execution_count": 6,
   "metadata": {},
   "outputs": [],
   "source": [
    "keywords = 'champignon,oesterzwam,tropische beurszwam,shiitake,morielje,cantharel,gewoon eekhoorntjesbrood,Truffels,zwavelzwam,geschubde inktzwam,gewone fluweelpootje,gordijnzwam,doodstrompet,Anijschampignon,Reuzenchampignon,Appelrussula,Biefstukzwam,Gele stekelzwam,Gewone fopzwam,Grote parasolzwam,Grote sponszwam,Grote stinkzwam,Judasoor,Kastanjeboleet,Knolparasolzwam,Koeienboleet,Paarse schijnridderzwam,Paarssteelschijnridderzwam,Parelamaniet,Pruikzwam,Regenboogrussula,Reuzenbovist,Roodbruine slanke amaniet,Voorjaarspronkridder,Weidechampignon,Zwavelzwam,Smakelijke russula,Zwartwitte veldridderzwam,Parelhoenchampignon,Karbolchampignon,Narcisamaniet,Vliegenzwam,Panteramaniet,Groene knolamaniet,Porfieramaniet,Voorjaarsamaniet,Kleverige knolamaniet,Netstelige heksenboleet,Satansboleet,Witte trechterzwammen,Witte bundelridderzwam,Grote bostrechterzwam,Grote kale inktzwam,Berkenzwam,Gordijnzwammen,Vermiljoengordijnzwam,Pagemantel,Satijnzwam,Bundelmosklokje,Prachtvlamhoed,Voorjaarskluifzwam,Radijsvaalhoed,Witte kluifzwam,Zwarte kluifzwam,Gewone zwavelkop,Vezelkoppen,Sterspoorvezelkop,Giftige vezelkop,Witte satijnvezelkop,Zandpad vezelkop,Geelbruine spleetvezelkop,Parasolzwammen,Spitsschubbige parasolzwam,Kastanjeparasolzwam,Gewoon elfenschermpje,Zwartbruine vlekplaat,Grauwe vlekplaat,Gazonvlekplaat,Gewone krulzoom,Grauwgroene hertenzwam,Kaalkopjes,Puntig kaalkopje,Fraaie koraalzwam,Duivelsbroodrussula,Braakrussula,Blauwvoetstekelzwam,Kroonbekerzwam,Kleine aardappelbovist,Gele aardappelbovist,Wortelende aardappelbovist,Oranje ridderzwam,Gele ridderzwam,Narcisridderzwam,Beukenridderzwam'"
   ]
  },
  {
   "cell_type": "code",
   "execution_count": 1,
   "metadata": {},
   "outputs": [],
   "source": [
    "data_dir = '/home/jupyter/mushrooms/data'\n",
    "nof_pics = 50\n",
    "response = google_images_download.googleimagesdownload()\n",
    "\n",
    "arguments = {\"keywords\":keywords,\n",
    "             \"limit\":nof_pics,\n",
    "             \"print_urls\":False,\n",
    "             \"output_directory\":f'{data_dir}',\n",
    "             \"chromedriver\":\"/usr/local/bin/chromedriver\"}\n",
    "\n",
    "paths = response.download(arguments)"
   ]
  },
  {
   "cell_type": "code",
   "execution_count": null,
   "metadata": {},
   "outputs": [],
   "source": []
  }
 ],
 "metadata": {
  "kernelspec": {
   "display_name": "Python 3",
   "language": "python",
   "name": "python3"
  },
  "language_info": {
   "codemirror_mode": {
    "name": "ipython",
    "version": 3
   },
   "file_extension": ".py",
   "mimetype": "text/x-python",
   "name": "python",
   "nbconvert_exporter": "python",
   "pygments_lexer": "ipython3",
   "version": "3.6.5"
  }
 },
 "nbformat": 4,
 "nbformat_minor": 2
}
