{
 "cells": [
  {
   "cell_type": "code",
   "execution_count": 1,
   "metadata": {},
   "outputs": [],
   "source": [
    "%reload_ext autoreload\n",
    "%autoreload 2\n",
    "%matplotlib inline\n",
    "\n",
    "from fastai import *\n",
    "from fastai.vision import *"
   ]
  },
  {
   "cell_type": "code",
   "execution_count": 2,
   "metadata": {},
   "outputs": [],
   "source": [
    "path = Path('/Users/ramon/AI/mushrooms/static/images')"
   ]
  },
  {
   "cell_type": "code",
   "execution_count": 3,
   "metadata": {},
   "outputs": [],
   "source": [
    "from math import sqrt\n",
    "from PIL import Image\n",
    "    \n",
    "def get_first_image(d):\n",
    "    images = [f for f in d.iterdir()]\n",
    "    return images[0]\n",
    "\n",
    "def get_all_images(d):\n",
    "    images = [f for f in d.iterdir()]\n",
    "    return images\n",
    "\n",
    "def crop_image(file_name, size):\n",
    "    im = Image.open(file_name)\n",
    "#     im.show()\n",
    "    (width,height) = im.size\n",
    "    if(height<width):\n",
    "        crop_s = height\n",
    "        crop_x = int((width-height)/2)\n",
    "        crop_y = 0\n",
    "    else:\n",
    "        crop_s = width\n",
    "        crop_x = 0\n",
    "        crop_y = int((height-width)/2)\n",
    "\n",
    "    im2 = im.crop((crop_x, crop_y, crop_s+crop_x, crop_s+crop_y))\n",
    "#     im2.show()\n",
    "#     Sys.exit(0)\n",
    "    im3 = im2.resize(size)\n",
    "    return im3\n",
    "\n",
    "def crop_first_image(d, size):\n",
    "    im = get_first_image(d)\n",
    "    return crop_image(im, (size,size))\n",
    "\n",
    "def create_canvas_grid(cropped_images, size):\n",
    "    canvas_size = int(sqrt(len(cropped_images))) * size\n",
    "    canvas = Image.new('RGB', (canvas_size, canvas_size), 'white')\n",
    "    x=0; y=0\n",
    "    for cropped in cropped_images:\n",
    "        canvas.paste(cropped, (x,y))\n",
    "        y=y+size;\n",
    "        if(y>canvas_size):\n",
    "            x=x+size; y=0\n",
    "        \n",
    "    return canvas"
   ]
  },
  {
   "cell_type": "code",
   "execution_count": 121,
   "metadata": {},
   "outputs": [],
   "source": [
    "size = 150;\n",
    "cropped_images = []\n",
    "\n",
    "classes = []\n",
    "for d in path.iterdir():\n",
    "    cropped_images.append(crop_first_image(d, size))\n",
    "    \n",
    "canvas_grid = create_canvas_grid(cropped_images, size)\n",
    "\n",
    "canvas_grid.save(path/'../canvas_grid.jpg', \"JPEG\")"
   ]
  },
  {
   "cell_type": "code",
   "execution_count": 18,
   "metadata": {},
   "outputs": [],
   "source": [
    "# resize all images nicely\n",
    "for d in path.iterdir():\n",
    "    images = get_all_images(d)\n",
    "    largest_width = 0\n",
    "    largest_image = None\n",
    "    \n",
    "    second_largest_width = 0\n",
    "    second_largest_image = None\n",
    "    \n",
    "    for image in images:\n",
    "        try:\n",
    "            im = Image.open(image)\n",
    "            width, height = im.size\n",
    "            if(width>largest_width):\n",
    "                largest_width = width\n",
    "                largest_image = image\n",
    "            elif(width>second_largest_width):\n",
    "                second_largest_width = width\n",
    "                second_largest_image = image\n",
    "        except:\n",
    "            continue\n",
    "            \n",
    "    cropped = crop_image(largest_image, (400,400))\n",
    "    cropped.save(str(d) + '/' + 'aaa.jpg', \"JPEG\")\n",
    "    \n",
    "    cropped = crop_image(second_largest_image, (400,400))\n",
    "    cropped.save(str(d) + '/' + 'bbb.jpg', \"JPEG\")"
   ]
  },
  {
   "cell_type": "code",
   "execution_count": null,
   "metadata": {},
   "outputs": [],
   "source": []
  }
 ],
 "metadata": {
  "kernelspec": {
   "display_name": "Python 3",
   "language": "python",
   "name": "python3"
  },
  "language_info": {
   "codemirror_mode": {
    "name": "ipython",
    "version": 3
   },
   "file_extension": ".py",
   "mimetype": "text/x-python",
   "name": "python",
   "nbconvert_exporter": "python",
   "pygments_lexer": "ipython3",
   "version": "3.6.4"
  }
 },
 "nbformat": 4,
 "nbformat_minor": 2
}
