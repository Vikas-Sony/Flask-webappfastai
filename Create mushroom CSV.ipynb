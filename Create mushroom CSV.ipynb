{
 "cells": [
  {
   "cell_type": "code",
   "execution_count": 1,
   "metadata": {},
   "outputs": [
    {
     "name": "stdout",
     "output_type": "stream",
     "text": [
      "Create mushroom CSV.ipynb\r\n",
      "data_paddestoelen_eetbaar.txt\r\n",
      "data_paddestoelen_eetbaar_minder_bekend.txt\r\n",
      "data_paddestoelen_giftig.txt\r\n",
      "mushrooms.csv\r\n"
     ]
    }
   ],
   "source": [
    "!ls"
   ]
  },
  {
   "cell_type": "code",
   "execution_count": 2,
   "metadata": {},
   "outputs": [],
   "source": [
    "def find_between(start, end, content):\n",
    "    results = []\n",
    "    index = 0\n",
    "    while index < len(content):\n",
    "        index_start = content.find(start, index)\n",
    "        if index_start == -1:\n",
    "            break\n",
    "        from_index = index_start + len(start)\n",
    "        index_end = content.find(end, from_index)\n",
    "        if index_end == -1:\n",
    "            break\n",
    "        index = index_end + len(end)\n",
    "        results.append( content[index_start+len(start):index_end] )\n",
    "    return results"
   ]
  },
  {
   "cell_type": "code",
   "execution_count": 3,
   "metadata": {},
   "outputs": [],
   "source": [
    "pd_items = []"
   ]
  },
  {
   "cell_type": "code",
   "execution_count": 4,
   "metadata": {},
   "outputs": [],
   "source": [
    "import re\n",
    "#data_paddestoelen_eetbaar.txt\n",
    "eatable_path = 'data_paddestoelen_eetbaar.txt'\n",
    "f = open(eatable_path)\n",
    "content = f.read()\n",
    "content\n",
    "\n",
    "items = find_between('li>', '</li', content)\n",
    "for item in items:\n",
    "    \n",
    "    name = re.findall(r\"title=\\\"[a-zA-Z\\s]+\\\">([a-zA-Z\\s]*)</a>\", item)\n",
    "    latin_name = re.findall(r\"<i>([a-zA-Z\\s]*)</i>\", item)\n",
    "    if(len(name)>0):    \n",
    "        name = name[0]\n",
    "    else:\n",
    "        name = ''\n",
    "        \n",
    "    if(len(latin_name)>0):    \n",
    "        latin_name = latin_name[0]\n",
    "    else:\n",
    "        latin_name = ''\n",
    "        \n",
    "    if(latin_name == 'Cantharellus cibarius'):\n",
    "        name = 'cantharel' #hanenkam, dooierzwam of cantharel\n",
    "    elif(latin_name == 'Cortinarius praestans'):\n",
    "        name = 'gordijnzwam'\n",
    "        \n",
    "#         'description': item,\n",
    "    pd_item = {'name': name, 'latin_name': latin_name, 'eatable': 1}\n",
    "    pd_items.append(pd_item)"
   ]
  },
  {
   "cell_type": "code",
   "execution_count": 5,
   "metadata": {},
   "outputs": [],
   "source": [
    "#data_paddestoelen_eetbaar_minder_bekend.txt\n",
    "eatable_path = 'data_paddestoelen_eetbaar_minder_bekend.txt'\n",
    "f = open(eatable_path)\n",
    "content = f.read()\n",
    "\n",
    "items = find_between('<tr>', '</tr', content)\n",
    "for item in items:\n",
    "    tds = find_between('<td>', '</td>', item)\n",
    "    if(len(tds)>0):\n",
    "        name = find_between('\">', '</a>', tds[0])[0]\n",
    "        latin_name = find_between('<i>', '</i>', tds[1])[0]\n",
    "#         'description': item,\n",
    "        pd_item = {'name': name, 'latin_name': latin_name, 'eatable': 1}\n",
    "        pd_items.append(pd_item)\n"
   ]
  },
  {
   "cell_type": "code",
   "execution_count": 6,
   "metadata": {},
   "outputs": [],
   "source": [
    "#data_paddestoelen_giftig.txt\n",
    "not_eatable_path = 'data_paddestoelen_giftig.txt'\n",
    "f = open(not_eatable_path)\n",
    "content = f.read()\n",
    "content\n",
    "\n",
    "items = find_between('<tr>', '</tr', content)\n",
    "for item in items:\n",
    "    tds = find_between('<td>', '</td>', item)\n",
    "    if(len(tds)>0):\n",
    "        name = find_between('\">', '</a>', tds[0])[0]\n",
    "        latin_name = find_between('<i>', '</i>', tds[1])\n",
    "        if(len(latin_name)>0):\n",
    "            latin_name = latin_name[0]\n",
    "        else:\n",
    "            latin_name = ''\n",
    "            \n",
    "        poinson = tds[3]\n",
    "        description = tds[4]\n",
    "        image = tds[5]\n",
    "    \n",
    "#         pd_item = {'name': name, 'latin_name': latin_name, 'description': item, 'eatable': 0, 'poinson': poinson, 'image': image}\n",
    "        pd_item = {'name': name, 'latin_name': latin_name, 'eatable': 0}\n",
    "        pd_items.append(pd_item)\n"
   ]
  },
  {
   "cell_type": "code",
   "execution_count": 7,
   "metadata": {},
   "outputs": [],
   "source": [
    "import pandas as pd\n",
    "df = pd.DataFrame(pd_items, columns=['name', 'latin_name', 'description', 'eatable', 'poinson', 'image'])\n",
    "df.to_csv('mushrooms.csv', index=False)"
   ]
  },
  {
   "cell_type": "code",
   "execution_count": null,
   "metadata": {},
   "outputs": [],
   "source": []
  },
  {
   "cell_type": "code",
   "execution_count": null,
   "metadata": {},
   "outputs": [],
   "source": [
    "\n"
   ]
  },
  {
   "cell_type": "code",
   "execution_count": null,
   "metadata": {},
   "outputs": [],
   "source": []
  }
 ],
 "metadata": {
  "kernelspec": {
   "display_name": "Python 3",
   "language": "python",
   "name": "python3"
  },
  "language_info": {
   "codemirror_mode": {
    "name": "ipython",
    "version": 3
   },
   "file_extension": ".py",
   "mimetype": "text/x-python",
   "name": "python",
   "nbconvert_exporter": "python",
   "pygments_lexer": "ipython3",
   "version": "3.6.4"
  }
 },
 "nbformat": 4,
 "nbformat_minor": 2
}
